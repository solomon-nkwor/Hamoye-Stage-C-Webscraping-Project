{
 "cells": [
  {
   "cell_type": "code",
   "execution_count": 88,
   "id": "688d21e2",
   "metadata": {},
   "outputs": [],
   "source": [
    "import requests\n",
    "from bs4 import BeautifulSoup\n",
    "import numpy as np\n",
    "import pandas as pd"
   ]
  },
  {
   "cell_type": "code",
   "execution_count": 74,
   "id": "0d5a145c",
   "metadata": {},
   "outputs": [],
   "source": [
    " def get_books(year):\n",
    "    '''to get the top 30 books for each year'''\n",
    "        \n",
    "    url =f\"https://www.amazon.com/gp/bestsellers/{year}/books\"\n",
    "\n",
    "    headers = {\"User-Agent\": \"Mozilla/5.0 (Windows NT 10.0; Win64; x64)\"\n",
    "               \"AppleWebKit/537.36 (KHTML, like Gecko) Chrome/106.0.0.0 Safari/537.36\",\n",
    "               \"Accept-Encoding\":\"gzip, deflate\", \"Accept\":\"text/html,application/xhtml+xml,application/xml;q=0.9,*/*;q=0.8\", \"DNT\":\"1\",\"Connection\":\"close\", \"Upgrade-Insecure-Requests\":\"1\"}\n",
    "\n",
    "    page = requests.get(url,headers = headers)\n",
    "    soup =BeautifulSoup(page.content, 'html.parser')\n",
    "\n",
    "    #get all books\n",
    "\n",
    "    books = soup.find_all(id = 'gridItemRoot')\n",
    "    \n",
    "    return books\n"
   ]
  },
  {
   "cell_type": "code",
   "execution_count": 99,
   "id": "be5cbe41",
   "metadata": {},
   "outputs": [],
   "source": [
    "\n",
    "def get_dir(book,year): \n",
    "    '''to get the details of each book for each''' \n",
    "    \n",
    "    import numpy as np\n",
    "    '''to get the name of price'''\n",
    "\n",
    "    try:\n",
    "        price = book.find('span',class_=\"_cDEzb_p13n-sc-price_3mJ9Z\").text[1:]\n",
    "    except Exception as e:\n",
    "        price = np.nan\n",
    "    try:\n",
    "        ranks = book.find('span', class_='zg-bdg-text').text[1:]\n",
    "    except Exception as e:\n",
    "        ranks = np.nan\n",
    "    try:\n",
    "        title = book.find('div',class_=\"_cDEzb_p13n-sc-css-line-clamp-1_1Fn1y\").text\n",
    "    except Exception as e:\n",
    "        title = np.nan\n",
    "    try:\n",
    "        ratings= book.find('span',class_=\"a-icon-alt\").text[:3] \n",
    "    except Exception as e:\n",
    "        ratings = np.nan\n",
    "    try:\n",
    "        no_of_reviews  = book.find('span',class_=\"a-size-small\").text\n",
    "    except Exception as e:\n",
    "        no_of_reviews = np.nan\n",
    "    try:\n",
    "        author = book.find('a',class_=\"a-size-small a-link-child\").text\n",
    "    except Exception as e:\n",
    "        author = np.nan\n",
    "    year = year\n",
    "    return [price,ranks,title,no_of_reviews,ratings,author, year]\n",
    "    \n",
    "    "
   ]
  },
  {
   "cell_type": "code",
   "execution_count": 101,
   "id": "aee6ee6c",
   "metadata": {},
   "outputs": [],
   "source": [
    "def get_data(books, year):\n",
    "    '''to get a list of dictionary for details of each book for the top_30 books'''\n",
    "    data = [get_dir(book,year) for book in books]\n",
    "    return data"
   ]
  },
  {
   "cell_type": "code",
   "execution_count": 85,
   "id": "34057022",
   "metadata": {},
   "outputs": [],
   "source": [
    "def get_dict(data,year):\n",
    "    '''to get a list of dictionaries for the top_30 books for each year'''\n",
    "\n",
    "    df_list = []       \n",
    "\n",
    "    for book in data:\n",
    "\n",
    "        df_list.append( {'year': book[6],\n",
    "                         'price':book[0],\n",
    "                         'ranks':book[1],\n",
    "                         'title':book[2],\n",
    "                         'no_of_reviews':book[3],\n",
    "                         'ratings':book[4],\n",
    "                         'author':book[5]})\n",
    "    return df_list\n",
    "\n",
    "    "
   ]
  },
  {
   "cell_type": "code",
   "execution_count": 97,
   "id": "42f0e058",
   "metadata": {},
   "outputs": [],
   "source": [
    "def df(year):\n",
    "    #v = get_books(year)\n",
    "    #c = get_data(get_books(year),year)\n",
    "    to get a di\n",
    "    y = get_dict(get_data(get_books(year),year), year)\n",
    "    return y"
   ]
  },
  {
   "cell_type": "code",
   "execution_count": 108,
   "id": "563af1cc",
   "metadata": {},
   "outputs": [],
   "source": [
    "years = [str(i) for i in range(2009,2022)]\n",
    "for year in years:\n",
    "    cv = pd.DataFrame(df(year), columns = ['year',\n",
    "                             'price',\n",
    "                             'ranks',\n",
    "                             'title',\n",
    "                             'no_of_reviews',\n",
    "                             'ratings',\n",
    "                             'author'])\n",
    "    \n",
    "    cv.to_csv(f'{year}_top_30.csv')\n",
    "\n"
   ]
  },
  {
   "cell_type": "code",
   "execution_count": null,
   "id": "0fe8c0a2",
   "metadata": {},
   "outputs": [],
   "source": []
  },
  {
   "cell_type": "code",
   "execution_count": 106,
   "id": "39d4cfbc",
   "metadata": {},
   "outputs": [
    {
     "data": {
      "text/plain": [
       "['2009',\n",
       " '2010',\n",
       " '2011',\n",
       " '2012',\n",
       " '2013',\n",
       " '2014',\n",
       " '2015',\n",
       " '2016',\n",
       " '2017',\n",
       " '2018',\n",
       " '2019',\n",
       " '2020',\n",
       " '2021']"
      ]
     },
     "execution_count": 106,
     "metadata": {},
     "output_type": "execute_result"
    }
   ],
   "source": []
  }
 ],
 "metadata": {
  "kernelspec": {
   "display_name": "Python 3 (ipykernel)",
   "language": "python",
   "name": "python3"
  },
  "language_info": {
   "codemirror_mode": {
    "name": "ipython",
    "version": 3
   },
   "file_extension": ".py",
   "mimetype": "text/x-python",
   "name": "python",
   "nbconvert_exporter": "python",
   "pygments_lexer": "ipython3",
   "version": "3.7.13"
  }
 },
 "nbformat": 4,
 "nbformat_minor": 5
}
