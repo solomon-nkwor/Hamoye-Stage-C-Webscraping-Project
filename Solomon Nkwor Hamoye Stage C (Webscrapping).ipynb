{
 "cells": [
  {
   "cell_type": "code",
   "execution_count": 1,
   "metadata": {},
   "outputs": [],
   "source": [
    "#importing libraries\n",
    "\n",
    "\n",
    "import pandas as pd # dataframe manipulation\n",
    "import requests # for sending requests to websites\n",
    "from bs4 import BeautifulSoup # for xlm and html parsing \n",
    "import matplotlib.pyplot as plt # visualizations\n",
    "import seaborn as sns #visualiations"
   ]
  },
  {
   "cell_type": "code",
   "execution_count": 2,
   "metadata": {},
   "outputs": [],
   "source": [
    "url  = 'https://ncses.nsf.gov/pubs/nsb20214/publication-output-by-country-region-or-economy-and-scientific-field'\n",
    "\n",
    "page = requests.get(url)"
   ]
  },
  {
   "cell_type": "code",
   "execution_count": 3,
   "metadata": {},
   "outputs": [
    {
     "data": {
      "text/plain": [
       "<Response [200]>"
      ]
     },
     "execution_count": 3,
     "metadata": {},
     "output_type": "execute_result"
    }
   ],
   "source": [
    "# this response means we have permission to get information from the website\n",
    "page"
   ]
  },
  {
   "cell_type": "code",
   "execution_count": 4,
   "metadata": {},
   "outputs": [],
   "source": [
    "soup = BeautifulSoup(page.text, 'lxml')"
   ]
  },
  {
   "cell_type": "code",
   "execution_count": 5,
   "metadata": {},
   "outputs": [],
   "source": [
    "table = soup.find('table', title=\"S&E research portfolios, by eight largest fields of science and by selected region, country, or economy: 2020\")"
   ]
  },
  {
   "cell_type": "code",
   "execution_count": 6,
   "metadata": {},
   "outputs": [],
   "source": [
    "# this code extracts the names of each column in the table\n",
    "headers = []\n",
    "for i in table.find_all('th', class_='last-row'):\n",
    "    title = i.text\n",
    "    headers.append(title)"
   ]
  },
  {
   "cell_type": "code",
   "execution_count": 7,
   "metadata": {},
   "outputs": [
    {
     "data": {
      "text/plain": [
       "['Region, country, or economy',\n",
       " 'Health sciences',\n",
       " 'Biological and biomedical sciences',\n",
       " 'Engineering',\n",
       " 'Computer and information sciences',\n",
       " 'Physics',\n",
       " 'Chemistry',\n",
       " 'Social sciences',\n",
       " 'Materials science']"
      ]
     },
     "execution_count": 7,
     "metadata": {},
     "output_type": "execute_result"
    }
   ],
   "source": [
    "headers"
   ]
  },
  {
   "cell_type": "code",
   "execution_count": 8,
   "metadata": {},
   "outputs": [],
   "source": [
    "scidata = pd.DataFrame(columns=headers)"
   ]
  },
  {
   "cell_type": "code",
   "execution_count": 9,
   "metadata": {},
   "outputs": [],
   "source": [
    "# because of the nature of the website, I could not loop through all columns\n",
    "# so I had to drop the problematic one and extract the rows of the others\n",
    "scidata.drop('Region, country, or economy', axis = 1, inplace = True)"
   ]
  },
  {
   "cell_type": "code",
   "execution_count": 10,
   "metadata": {},
   "outputs": [],
   "source": [
    "# this loop extracts the rows and places them in the scidata dataframe\n",
    "for j in table.find_all('tr')[1:]:\n",
    "    row_data = j.find_all('td')\n",
    "    row = [i.text for i in row_data]\n",
    "    length = len(scidata)\n",
    "    scidata.loc[length] = row"
   ]
  },
  {
   "cell_type": "code",
   "execution_count": 11,
   "metadata": {},
   "outputs": [],
   "source": [
    "# now this code extracts the rows of the dropped column and placed them in a list\n",
    "first = []    \n",
    "for q in table.find('th', id='rowTH0-inlinefid3162'):\n",
    "    first.append(q)\n",
    "for q1 in table.find('th', id='rowTH1-inlinefid3162'):\n",
    "    first.append(q1)\n",
    "for q2 in table.find('th', id='rowTH2-inlinefid3162'):\n",
    "    first.append(q2)\n",
    "for q3 in table.find('th', id='rowTH3-inlinefid3162'):\n",
    "    first.append(q3)\n",
    "for q4 in table.find('th', id='rowTH4-inlinefid3162'):\n",
    "    first.append(q4)\n",
    "for q5 in table.find('th', id='rowTH5-inlinefid3162'):\n",
    "    first.append(q5)"
   ]
  },
  {
   "cell_type": "code",
   "execution_count": 12,
   "metadata": {},
   "outputs": [],
   "source": [
    "# then the information is added to the scidata dataframe\n",
    "scidata['Region, country, or economy'] = first\n",
    "\n",
    "# this code will save the table in a csv format\n",
    "\n",
    "scidata.to_csv('number of publications by field.csv')"
   ]
  },
  {
   "cell_type": "code",
   "execution_count": 13,
   "metadata": {},
   "outputs": [],
   "source": [
    "# Scrapping the second table from the same website\n",
    "table1 = soup.find('table', title=\"S&E articles, by selected region, country, or economy and rest of world: 1996–2020\")"
   ]
  },
  {
   "cell_type": "code",
   "execution_count": 14,
   "metadata": {},
   "outputs": [],
   "source": [
    "# extracting the column names\n",
    "headers1 = []\n",
    "for b in table1.find_all('th', class_='last-row'):\n",
    "    title1 = b.text\n",
    "    headers1.append(title1)"
   ]
  },
  {
   "cell_type": "code",
   "execution_count": 15,
   "metadata": {},
   "outputs": [],
   "source": [
    "scidata1 = pd.DataFrame(columns=headers1)"
   ]
  },
  {
   "cell_type": "code",
   "execution_count": 16,
   "metadata": {},
   "outputs": [],
   "source": [
    "# dropping the problematic column\n",
    "scidata1.drop('Publication year', axis = 1, inplace = True)"
   ]
  },
  {
   "cell_type": "code",
   "execution_count": 17,
   "metadata": {},
   "outputs": [],
   "source": [
    "# extracting the rows of the other columns\n",
    "for y in table1.find_all('tr')[1:]:\n",
    "    row_data1 = y.find_all('td')\n",
    "    row1 = [m.text for m in row_data1]\n",
    "    length1 = len(scidata1)\n",
    "    scidata1.loc[length1] = row1"
   ]
  },
  {
   "cell_type": "code",
   "execution_count": 18,
   "metadata": {},
   "outputs": [],
   "source": [
    "# extracting the rows of the first column. There may be a function that\n",
    "# that does this faster and with few lines of code, but I have not learned that yet.\n",
    "first2 = []    \n",
    "for k in table1.find('th', id='rowTH0-inlinefid3315'):\n",
    "    first2.append(k)\n",
    "for k1 in table1.find('th', id='rowTH1-inlinefid3315'):\n",
    "    first2.append(k1)\n",
    "for k2 in table1.find('th', id='rowTH2-inlinefid3315'):\n",
    "    first2.append(k2)\n",
    "for k3 in table1.find('th', id='rowTH3-inlinefid3315'):\n",
    "    first2.append(k3)\n",
    "for k4 in table1.find('th', id='rowTH4-inlinefid3315'):\n",
    "    first2.append(k4)\n",
    "for k5 in table1.find('th', id='rowTH5-inlinefid3315'):\n",
    "    first2.append(k5)\n",
    "for k6 in table1.find('th', id='rowTH6-inlinefid3315'):\n",
    "    first2.append(k6)\n",
    "for k7 in table1.find('th', id='rowTH7-inlinefid3315'):\n",
    "    first2.append(k7)\n",
    "for k8 in table1.find('th', id='rowTH8-inlinefid3315'):\n",
    "    first2.append(k8)\n",
    "for k9 in table1.find('th', id='rowTH9-inlinefid3315'):\n",
    "    first2.append(k9)\n",
    "for k10 in table1.find('th', id='rowTH10-inlinefid3315'):\n",
    "    first2.append(k10)\n",
    "for k11 in table1.find('th', id='rowTH11-inlinefid3315'):\n",
    "    first2.append(k11)\n",
    "for k12 in table1.find('th', id='rowTH12-inlinefid3315'):\n",
    "    first2.append(k12)\n",
    "for k13 in table1.find('th', id='rowTH13-inlinefid3315'):\n",
    "    first2.append(k13)\n",
    "for k14 in table1.find('th', id='rowTH14-inlinefid3315'):\n",
    "    first2.append(k14)\n",
    "for k15 in table1.find('th', id='rowTH15-inlinefid3315'):\n",
    "    first2.append(k15)\n",
    "for k16 in table1.find('th', id='rowTH16-inlinefid3315'):\n",
    "    first2.append(k16)\n",
    "for k17 in table1.find('th', id='rowTH17-inlinefid3315'):\n",
    "    first2.append(k17)\n",
    "for k18 in table1.find('th', id='rowTH18-inlinefid3315'):\n",
    "    first2.append(k18)\n",
    "for k19 in table1.find('th', id='rowTH19-inlinefid3315'):\n",
    "    first2.append(k19)\n",
    "for k20 in table1.find('th', id='rowTH20-inlinefid3315'):\n",
    "    first2.append(k20)\n",
    "for k21 in table1.find('th', id='rowTH21-inlinefid3315'):\n",
    "    first2.append(k21)\n",
    "for k22 in table1.find('th', id='rowTH22-inlinefid3315'):\n",
    "    first2.append(k22)\n",
    "for k23 in table1.find('th', id='rowTH23-inlinefid3315'):\n",
    "    first2.append(k23)\n",
    "for k24 in table1.find('th', id='rowTH24-inlinefid3315'):\n",
    "    first2.append(k24)\n"
   ]
  },
  {
   "cell_type": "code",
   "execution_count": 19,
   "metadata": {},
   "outputs": [],
   "source": [
    "\n",
    "scidata1['Publication year'] = first2\n",
    "\n",
    "# this bit here saves the dataframe as a csv file \n",
    "\n",
    "scidata1.to_csv('number of publications from 1996 to 2020.csv')"
   ]
  },
  {
   "cell_type": "code",
   "execution_count": 20,
   "metadata": {},
   "outputs": [],
   "source": [
    "# reading the last table from wikipedia\n",
    "url1 = 'https://en.wikipedia.org/wiki/List_of_countries_by_number_of_scientific_and_technical_journal_articles'"
   ]
  },
  {
   "cell_type": "code",
   "execution_count": 21,
   "metadata": {},
   "outputs": [],
   "source": [
    "page1 = requests.get(url1)"
   ]
  },
  {
   "cell_type": "code",
   "execution_count": 22,
   "metadata": {},
   "outputs": [],
   "source": [
    "soup1 = BeautifulSoup(page1.text, 'lxml')"
   ]
  },
  {
   "cell_type": "code",
   "execution_count": 23,
   "metadata": {},
   "outputs": [],
   "source": [
    "table2 = soup1.find('table', {'class':'wikitable sortable'})"
   ]
  },
  {
   "cell_type": "code",
   "execution_count": 24,
   "metadata": {},
   "outputs": [],
   "source": [
    "# I decided to try another approach and it worked!\n",
    "# I just used pandas built in read_html fucntion to read the data \n",
    "# and then concatenated them into a dataframe\n",
    "df = pd.read_html(str(table2))\n",
    "\n",
    "df = pd.concat(df)"
   ]
  },
  {
   "cell_type": "code",
   "execution_count": 25,
   "metadata": {},
   "outputs": [],
   "source": [
    "# a little bit of cleaning as the dataframe was messy\n",
    "df.rename(columns = {0:'Rank', 1:'Country', 2:'Number of Scientific Publications (2020)', 3:'Scientific Publications per capita (in ppm)'}, inplace=True)\n",
    "#drop unwanted rows and columns\n",
    "df.drop(df.index[0], axis = 0, inplace = True)\n",
    "df.drop('Rank', axis = 1, inplace = True)\n",
    "df.reset_index(inplace=True, drop=True)"
   ]
  },
  {
   "cell_type": "code",
   "execution_count": 26,
   "metadata": {},
   "outputs": [],
   "source": [
    "# saving to a csv\n",
    "df.to_csv('number of scientific Publications in 2020.csv')"
   ]
  },
  {
   "cell_type": "code",
   "execution_count": 27,
   "metadata": {},
   "outputs": [
    {
     "data": {
      "text/html": [
       "<div>\n",
       "<style scoped>\n",
       "    .dataframe tbody tr th:only-of-type {\n",
       "        vertical-align: middle;\n",
       "    }\n",
       "\n",
       "    .dataframe tbody tr th {\n",
       "        vertical-align: top;\n",
       "    }\n",
       "\n",
       "    .dataframe thead th {\n",
       "        text-align: right;\n",
       "    }\n",
       "</style>\n",
       "<table border=\"1\" class=\"dataframe\">\n",
       "  <thead>\n",
       "    <tr style=\"text-align: right;\">\n",
       "      <th></th>\n",
       "      <th>Country</th>\n",
       "      <th>Number of Scientific Publications (2020)</th>\n",
       "      <th>Scientific Publications per capita (in ppm)</th>\n",
       "    </tr>\n",
       "  </thead>\n",
       "  <tbody>\n",
       "    <tr>\n",
       "      <th>0</th>\n",
       "      <td>China</td>\n",
       "      <td>744042</td>\n",
       "      <td>527</td>\n",
       "    </tr>\n",
       "    <tr>\n",
       "      <th>1</th>\n",
       "      <td>United States</td>\n",
       "      <td>624554</td>\n",
       "      <td>1875</td>\n",
       "    </tr>\n",
       "    <tr>\n",
       "      <th>2</th>\n",
       "      <td>United Kingdom</td>\n",
       "      <td>198500</td>\n",
       "      <td>2959</td>\n",
       "    </tr>\n",
       "    <tr>\n",
       "      <th>3</th>\n",
       "      <td>India</td>\n",
       "      <td>191590</td>\n",
       "      <td>138</td>\n",
       "    </tr>\n",
       "    <tr>\n",
       "      <th>4</th>\n",
       "      <td>Germany</td>\n",
       "      <td>174524</td>\n",
       "      <td>2097</td>\n",
       "    </tr>\n",
       "  </tbody>\n",
       "</table>\n",
       "</div>"
      ],
      "text/plain": [
       "          Country Number of Scientific Publications (2020)  \\\n",
       "0           China                                   744042   \n",
       "1   United States                                   624554   \n",
       "2  United Kingdom                                   198500   \n",
       "3           India                                   191590   \n",
       "4         Germany                                   174524   \n",
       "\n",
       "  Scientific Publications per capita (in ppm)  \n",
       "0                                         527  \n",
       "1                                        1875  \n",
       "2                                        2959  \n",
       "3                                         138  \n",
       "4                                        2097  "
      ]
     },
     "execution_count": 27,
     "metadata": {},
     "output_type": "execute_result"
    }
   ],
   "source": [
    "df.head()"
   ]
  },
  {
   "cell_type": "markdown",
   "metadata": {},
   "source": [
    "Analysing the extracted tables"
   ]
  },
  {
   "cell_type": "code",
   "execution_count": 28,
   "metadata": {},
   "outputs": [],
   "source": [
    "# reading the csv into a dataframe\n",
    "scipub = pd.read_csv('number of scientific Publications in 2020.csv')"
   ]
  },
  {
   "cell_type": "code",
   "execution_count": 29,
   "metadata": {
    "scrolled": true
   },
   "outputs": [
    {
     "data": {
      "text/html": [
       "<div>\n",
       "<style scoped>\n",
       "    .dataframe tbody tr th:only-of-type {\n",
       "        vertical-align: middle;\n",
       "    }\n",
       "\n",
       "    .dataframe tbody tr th {\n",
       "        vertical-align: top;\n",
       "    }\n",
       "\n",
       "    .dataframe thead th {\n",
       "        text-align: right;\n",
       "    }\n",
       "</style>\n",
       "<table border=\"1\" class=\"dataframe\">\n",
       "  <thead>\n",
       "    <tr style=\"text-align: right;\">\n",
       "      <th></th>\n",
       "      <th>Unnamed: 0</th>\n",
       "      <th>Country</th>\n",
       "      <th>Number of Scientific Publications (2020)</th>\n",
       "      <th>Scientific Publications per capita (in ppm)</th>\n",
       "    </tr>\n",
       "  </thead>\n",
       "  <tbody>\n",
       "    <tr>\n",
       "      <th>0</th>\n",
       "      <td>0</td>\n",
       "      <td>China</td>\n",
       "      <td>744042</td>\n",
       "      <td>527.0</td>\n",
       "    </tr>\n",
       "    <tr>\n",
       "      <th>1</th>\n",
       "      <td>1</td>\n",
       "      <td>United States</td>\n",
       "      <td>624554</td>\n",
       "      <td>1875.0</td>\n",
       "    </tr>\n",
       "    <tr>\n",
       "      <th>2</th>\n",
       "      <td>2</td>\n",
       "      <td>United Kingdom</td>\n",
       "      <td>198500</td>\n",
       "      <td>2959.0</td>\n",
       "    </tr>\n",
       "    <tr>\n",
       "      <th>3</th>\n",
       "      <td>3</td>\n",
       "      <td>India</td>\n",
       "      <td>191590</td>\n",
       "      <td>138.0</td>\n",
       "    </tr>\n",
       "    <tr>\n",
       "      <th>4</th>\n",
       "      <td>4</td>\n",
       "      <td>Germany</td>\n",
       "      <td>174524</td>\n",
       "      <td>2097.0</td>\n",
       "    </tr>\n",
       "  </tbody>\n",
       "</table>\n",
       "</div>"
      ],
      "text/plain": [
       "   Unnamed: 0         Country  Number of Scientific Publications (2020)  \\\n",
       "0           0           China                                    744042   \n",
       "1           1   United States                                    624554   \n",
       "2           2  United Kingdom                                    198500   \n",
       "3           3           India                                    191590   \n",
       "4           4         Germany                                    174524   \n",
       "\n",
       "   Scientific Publications per capita (in ppm)  \n",
       "0                                        527.0  \n",
       "1                                       1875.0  \n",
       "2                                       2959.0  \n",
       "3                                        138.0  \n",
       "4                                       2097.0  "
      ]
     },
     "execution_count": 29,
     "metadata": {},
     "output_type": "execute_result"
    }
   ],
   "source": [
    "scipub.head()"
   ]
  },
  {
   "cell_type": "code",
   "execution_count": 30,
   "metadata": {},
   "outputs": [
    {
     "data": {
      "text/html": [
       "<div>\n",
       "<style scoped>\n",
       "    .dataframe tbody tr th:only-of-type {\n",
       "        vertical-align: middle;\n",
       "    }\n",
       "\n",
       "    .dataframe tbody tr th {\n",
       "        vertical-align: top;\n",
       "    }\n",
       "\n",
       "    .dataframe thead th {\n",
       "        text-align: right;\n",
       "    }\n",
       "</style>\n",
       "<table border=\"1\" class=\"dataframe\">\n",
       "  <thead>\n",
       "    <tr style=\"text-align: right;\">\n",
       "      <th></th>\n",
       "      <th>Unnamed: 0</th>\n",
       "      <th>Country</th>\n",
       "      <th>Number of Scientific Publications (2020)</th>\n",
       "      <th>Scientific Publications per capita (in ppm)</th>\n",
       "    </tr>\n",
       "  </thead>\n",
       "  <tbody>\n",
       "    <tr>\n",
       "      <th>225</th>\n",
       "      <td>225</td>\n",
       "      <td>Tuvalu</td>\n",
       "      <td>2</td>\n",
       "      <td>187.0</td>\n",
       "    </tr>\n",
       "    <tr>\n",
       "      <th>226</th>\n",
       "      <td>226</td>\n",
       "      <td>Saint Pierre and Miquelon</td>\n",
       "      <td>1</td>\n",
       "      <td>167.0</td>\n",
       "    </tr>\n",
       "    <tr>\n",
       "      <th>227</th>\n",
       "      <td>227</td>\n",
       "      <td>1</td>\n",
       "      <td>666</td>\n",
       "      <td>NaN</td>\n",
       "    </tr>\n",
       "    <tr>\n",
       "      <th>228</th>\n",
       "      <td>228</td>\n",
       "      <td>1</td>\n",
       "      <td>2500</td>\n",
       "      <td>NaN</td>\n",
       "    </tr>\n",
       "    <tr>\n",
       "      <th>229</th>\n",
       "      <td>229</td>\n",
       "      <td>World</td>\n",
       "      <td>4236262</td>\n",
       "      <td>NaN</td>\n",
       "    </tr>\n",
       "  </tbody>\n",
       "</table>\n",
       "</div>"
      ],
      "text/plain": [
       "     Unnamed: 0                    Country  \\\n",
       "225         225                     Tuvalu   \n",
       "226         226  Saint Pierre and Miquelon   \n",
       "227         227                          1   \n",
       "228         228                          1   \n",
       "229         229                      World   \n",
       "\n",
       "     Number of Scientific Publications (2020)  \\\n",
       "225                                         2   \n",
       "226                                         1   \n",
       "227                                       666   \n",
       "228                                      2500   \n",
       "229                                   4236262   \n",
       "\n",
       "     Scientific Publications per capita (in ppm)  \n",
       "225                                        187.0  \n",
       "226                                        167.0  \n",
       "227                                          NaN  \n",
       "228                                          NaN  \n",
       "229                                          NaN  "
      ]
     },
     "execution_count": 30,
     "metadata": {},
     "output_type": "execute_result"
    }
   ],
   "source": [
    "scipub.tail()"
   ]
  },
  {
   "cell_type": "code",
   "execution_count": 31,
   "metadata": {},
   "outputs": [],
   "source": [
    "# some more cleaning on the data\n",
    "# droping the unnamed column and the last three rows\n",
    "scipub.drop('Unnamed: 0', axis = 1, inplace=True)\n",
    "scipub.drop(scipub.index[227:], axis = 0, inplace=True)"
   ]
  },
  {
   "cell_type": "code",
   "execution_count": 32,
   "metadata": {},
   "outputs": [],
   "source": [
    "sum_ = scipub['Number of Scientific Publications (2020)'].sum()"
   ]
  },
  {
   "cell_type": "code",
   "execution_count": 33,
   "metadata": {
    "scrolled": true
   },
   "outputs": [],
   "source": [
    "# the previous cell gets the sum and this cell calculates the percentage number of publications for each country\n",
    "scipub['percent'] = round((scipub['Number of Scientific Publications (2020)']/sum_ * 100), 2)"
   ]
  },
  {
   "cell_type": "code",
   "execution_count": 34,
   "metadata": {},
   "outputs": [],
   "source": [
    "# due to the high number of rows, the information for the top10 publishers in 2020 was vizualized\n",
    "top10 = scipub.loc[:9, :]"
   ]
  },
  {
   "cell_type": "code",
   "execution_count": 35,
   "metadata": {},
   "outputs": [
    {
     "data": {
      "image/png": "[encoded data removed]",
      "text/plain": [
       "<Figure size 360x360 with 1 Axes>"
      ]
     },
     "metadata": {},
     "output_type": "display_data"
    }
   ],
   "source": [
    "sns.set_style('dark')\n",
    "g = sns.catplot(x='Country', y='Number of Scientific Publications (2020)', data = top10, kind = 'bar')\n",
    "plt.title('Top 10 Publishing Countries in 2020')\n",
    "g.set_xticklabels(rotation=90);"
   ]
  },
  {
   "cell_type": "code",
   "execution_count": 36,
   "metadata": {},
   "outputs": [
    {
     "data": {
      "image/png": "[encoded data removed]",
      "text/plain": [
       "<Figure size 360x360 with 1 Axes>"
      ]
     },
     "metadata": {},
     "output_type": "display_data"
    }
   ],
   "source": [
    "# the number of publications per capita was also vizualized for the top10 countries\n",
    "sns.catplot(x='Country', y='Scientific Publications per capita (in ppm)', data = top10, kind = 'bar').set_xticklabels(rotation=90);\n",
    "plt.title('Scientific Publications per Capita for the Top 10 Countries');"
   ]
  },
  {
   "cell_type": "code",
   "execution_count": 37,
   "metadata": {},
   "outputs": [],
   "source": [
    "# reading the information for the second table\n",
    "numpub = pd.read_csv('number of publications from 1996 to 2020.csv')"
   ]
  },
  {
   "cell_type": "code",
   "execution_count": 38,
   "metadata": {},
   "outputs": [
    {
     "data": {
      "text/html": [
       "<div>\n",
       "<style scoped>\n",
       "    .dataframe tbody tr th:only-of-type {\n",
       "        vertical-align: middle;\n",
       "    }\n",
       "\n",
       "    .dataframe tbody tr th {\n",
       "        vertical-align: top;\n",
       "    }\n",
       "\n",
       "    .dataframe thead th {\n",
       "        text-align: right;\n",
       "    }\n",
       "</style>\n",
       "<table border=\"1\" class=\"dataframe\">\n",
       "  <thead>\n",
       "    <tr style=\"text-align: right;\">\n",
       "      <th></th>\n",
       "      <th>Unnamed: 0</th>\n",
       "      <th>United States</th>\n",
       "      <th>Germany</th>\n",
       "      <th>United Kingdom</th>\n",
       "      <th>China</th>\n",
       "      <th>India</th>\n",
       "      <th>Japan</th>\n",
       "      <th>Rest of world</th>\n",
       "      <th>World</th>\n",
       "      <th>Publication year</th>\n",
       "    </tr>\n",
       "  </thead>\n",
       "  <tbody>\n",
       "    <tr>\n",
       "      <th>0</th>\n",
       "      <td>0</td>\n",
       "      <td>313,392</td>\n",
       "      <td>64,230</td>\n",
       "      <td>72,332</td>\n",
       "      <td>33,621</td>\n",
       "      <td>18,905</td>\n",
       "      <td>88,807</td>\n",
       "      <td>401,251</td>\n",
       "      <td>992,538</td>\n",
       "      <td>1996</td>\n",
       "    </tr>\n",
       "    <tr>\n",
       "      <th>1</th>\n",
       "      <td>1</td>\n",
       "      <td>311,117</td>\n",
       "      <td>68,275</td>\n",
       "      <td>74,151</td>\n",
       "      <td>37,425</td>\n",
       "      <td>19,349</td>\n",
       "      <td>91,890</td>\n",
       "      <td>419,112</td>\n",
       "      <td>1,021,319</td>\n",
       "      <td>1997</td>\n",
       "    </tr>\n",
       "    <tr>\n",
       "      <th>2</th>\n",
       "      <td>2</td>\n",
       "      <td>302,600</td>\n",
       "      <td>69,448</td>\n",
       "      <td>74,208</td>\n",
       "      <td>43,775</td>\n",
       "      <td>19,718</td>\n",
       "      <td>92,246</td>\n",
       "      <td>424,970</td>\n",
       "      <td>1,026,965</td>\n",
       "      <td>1998</td>\n",
       "    </tr>\n",
       "    <tr>\n",
       "      <th>3</th>\n",
       "      <td>3</td>\n",
       "      <td>296,941</td>\n",
       "      <td>67,534</td>\n",
       "      <td>73,334</td>\n",
       "      <td>45,192</td>\n",
       "      <td>20,838</td>\n",
       "      <td>94,195</td>\n",
       "      <td>431,245</td>\n",
       "      <td>1,029,278</td>\n",
       "      <td>1999</td>\n",
       "    </tr>\n",
       "    <tr>\n",
       "      <th>4</th>\n",
       "      <td>4</td>\n",
       "      <td>306,472</td>\n",
       "      <td>69,739</td>\n",
       "      <td>77,969</td>\n",
       "      <td>53,285</td>\n",
       "      <td>21,409</td>\n",
       "      <td>96,607</td>\n",
       "      <td>451,154</td>\n",
       "      <td>1,076,635</td>\n",
       "      <td>2000</td>\n",
       "    </tr>\n",
       "  </tbody>\n",
       "</table>\n",
       "</div>"
      ],
      "text/plain": [
       "   Unnamed: 0 United States Germany United Kingdom   China   India   Japan  \\\n",
       "0           0       313,392  64,230         72,332  33,621  18,905  88,807   \n",
       "1           1       311,117  68,275         74,151  37,425  19,349  91,890   \n",
       "2           2       302,600  69,448         74,208  43,775  19,718  92,246   \n",
       "3           3       296,941  67,534         73,334  45,192  20,838  94,195   \n",
       "4           4       306,472  69,739         77,969  53,285  21,409  96,607   \n",
       "\n",
       "  Rest of world      World  Publication year  \n",
       "0       401,251    992,538              1996  \n",
       "1       419,112  1,021,319              1997  \n",
       "2       424,970  1,026,965              1998  \n",
       "3       431,245  1,029,278              1999  \n",
       "4       451,154  1,076,635              2000  "
      ]
     },
     "execution_count": 38,
     "metadata": {},
     "output_type": "execute_result"
    }
   ],
   "source": [
    "numpub.head()"
   ]
  },
  {
   "cell_type": "code",
   "execution_count": 39,
   "metadata": {},
   "outputs": [
    {
     "name": "stdout",
     "output_type": "stream",
     "text": [
      "<class 'pandas.core.frame.DataFrame'>\n",
      "RangeIndex: 25 entries, 0 to 24\n",
      "Data columns (total 10 columns):\n",
      "Unnamed: 0          25 non-null int64\n",
      "United States       25 non-null object\n",
      "Germany             25 non-null object\n",
      "United Kingdom      25 non-null object\n",
      "China               25 non-null object\n",
      "India               25 non-null object\n",
      "Japan               25 non-null object\n",
      "Rest of world       25 non-null object\n",
      "World               25 non-null object\n",
      "Publication year    25 non-null int64\n",
      "dtypes: int64(2), object(8)\n",
      "memory usage: 2.0+ KB\n"
     ]
    }
   ],
   "source": [
    "# notice the all the columns that are supposed to be floats are objects\n",
    "numpub.info()"
   ]
  },
  {
   "cell_type": "code",
   "execution_count": 40,
   "metadata": {},
   "outputs": [],
   "source": [
    "# dropping the unwanted column\n",
    "numpub.drop('Unnamed: 0', axis = 1, inplace=True)"
   ]
  },
  {
   "cell_type": "code",
   "execution_count": 41,
   "metadata": {},
   "outputs": [],
   "source": [
    "cols = numpub.columns.drop('Publication year')"
   ]
  },
  {
   "cell_type": "code",
   "execution_count": 42,
   "metadata": {},
   "outputs": [],
   "source": [
    "# changing the type of the columns expect publication year to a float and replacing ',' with nothing\n",
    "for col in cols:\n",
    "    numpub[col] = numpub[col].apply(lambda x: float(x.split()[0].replace(',', ''))) "
   ]
  },
  {
   "cell_type": "code",
   "execution_count": 43,
   "metadata": {},
   "outputs": [
    {
     "name": "stdout",
     "output_type": "stream",
     "text": [
      "<class 'pandas.core.frame.DataFrame'>\n",
      "RangeIndex: 25 entries, 0 to 24\n",
      "Data columns (total 9 columns):\n",
      "United States       25 non-null float64\n",
      "Germany             25 non-null float64\n",
      "United Kingdom      25 non-null float64\n",
      "China               25 non-null float64\n",
      "India               25 non-null float64\n",
      "Japan               25 non-null float64\n",
      "Rest of world       25 non-null float64\n",
      "World               25 non-null float64\n",
      "Publication year    25 non-null int64\n",
      "dtypes: float64(8), int64(1)\n",
      "memory usage: 1.8 KB\n"
     ]
    }
   ],
   "source": [
    "numpub.info()"
   ]
  },
  {
   "cell_type": "code",
   "execution_count": 44,
   "metadata": {},
   "outputs": [
    {
     "data": {
      "image/png": "[encoded data removed]",
      "text/plain": [
       "<Figure size 432x288 with 1 Axes>"
      ]
     },
     "metadata": {},
     "output_type": "display_data"
    }
   ],
   "source": [
    "plt.plot('Publication year', 'United States', data = numpub, marker = '*')\n",
    "plt.plot('Publication year', 'Germany', data = numpub, marker = 's')\n",
    "plt.plot('Publication year', 'United Kingdom', data = numpub, marker = 'p')\n",
    "plt.plot('Publication year', 'China', data = numpub, marker = '<')\n",
    "plt.plot('Publication year', 'India', data = numpub, marker = '>')\n",
    "plt.plot('Publication year', 'Japan', data = numpub, marker = 'h')\n",
    "\n",
    "plt.legend()\n",
    "plt.xlabel('Year')\n",
    "plt.ylabel('Number of Publications')\n",
    "plt.title('Total Yearly Publications for Selected Countries');"
   ]
  },
  {
   "cell_type": "code",
   "execution_count": 45,
   "metadata": {},
   "outputs": [],
   "source": [
    "# reading the last dataframe\n",
    "apub = pd.read_csv('number of publications by field.csv')"
   ]
  },
  {
   "cell_type": "code",
   "execution_count": 46,
   "metadata": {},
   "outputs": [
    {
     "data": {
      "text/html": [
       "<div>\n",
       "<style scoped>\n",
       "    .dataframe tbody tr th:only-of-type {\n",
       "        vertical-align: middle;\n",
       "    }\n",
       "\n",
       "    .dataframe tbody tr th {\n",
       "        vertical-align: top;\n",
       "    }\n",
       "\n",
       "    .dataframe thead th {\n",
       "        text-align: right;\n",
       "    }\n",
       "</style>\n",
       "<table border=\"1\" class=\"dataframe\">\n",
       "  <thead>\n",
       "    <tr style=\"text-align: right;\">\n",
       "      <th></th>\n",
       "      <th>Unnamed: 0</th>\n",
       "      <th>Health sciences</th>\n",
       "      <th>Biological and biomedical sciences</th>\n",
       "      <th>Engineering</th>\n",
       "      <th>Computer and information sciences</th>\n",
       "      <th>Physics</th>\n",
       "      <th>Chemistry</th>\n",
       "      <th>Social sciences</th>\n",
       "      <th>Materials science</th>\n",
       "      <th>Region, country, or economy</th>\n",
       "    </tr>\n",
       "  </thead>\n",
       "  <tbody>\n",
       "    <tr>\n",
       "      <th>0</th>\n",
       "      <td>0</td>\n",
       "      <td>36.62</td>\n",
       "      <td>14.28</td>\n",
       "      <td>11.12</td>\n",
       "      <td>6.49</td>\n",
       "      <td>5.90</td>\n",
       "      <td>3.43</td>\n",
       "      <td>8.23</td>\n",
       "      <td>1.30</td>\n",
       "      <td>United States</td>\n",
       "    </tr>\n",
       "    <tr>\n",
       "      <th>1</th>\n",
       "      <td>1</td>\n",
       "      <td>27.52</td>\n",
       "      <td>13.09</td>\n",
       "      <td>12.63</td>\n",
       "      <td>8.81</td>\n",
       "      <td>8.22</td>\n",
       "      <td>5.71</td>\n",
       "      <td>6.96</td>\n",
       "      <td>2.43</td>\n",
       "      <td>EU-27</td>\n",
       "    </tr>\n",
       "    <tr>\n",
       "      <th>2</th>\n",
       "      <td>2</td>\n",
       "      <td>15.41</td>\n",
       "      <td>10.97</td>\n",
       "      <td>23.79</td>\n",
       "      <td>11.98</td>\n",
       "      <td>10.09</td>\n",
       "      <td>8.30</td>\n",
       "      <td>1.28</td>\n",
       "      <td>5.19</td>\n",
       "      <td>China</td>\n",
       "    </tr>\n",
       "    <tr>\n",
       "      <th>3</th>\n",
       "      <td>3</td>\n",
       "      <td>16.15</td>\n",
       "      <td>11.74</td>\n",
       "      <td>17.02</td>\n",
       "      <td>17.56</td>\n",
       "      <td>10.88</td>\n",
       "      <td>8.19</td>\n",
       "      <td>1.71</td>\n",
       "      <td>6.67</td>\n",
       "      <td>India</td>\n",
       "    </tr>\n",
       "    <tr>\n",
       "      <th>4</th>\n",
       "      <td>4</td>\n",
       "      <td>32.30</td>\n",
       "      <td>13.39</td>\n",
       "      <td>13.00</td>\n",
       "      <td>8.11</td>\n",
       "      <td>11.90</td>\n",
       "      <td>7.80</td>\n",
       "      <td>1.85</td>\n",
       "      <td>3.23</td>\n",
       "      <td>Japan</td>\n",
       "    </tr>\n",
       "  </tbody>\n",
       "</table>\n",
       "</div>"
      ],
      "text/plain": [
       "   Unnamed: 0  Health sciences  Biological and biomedical sciences  \\\n",
       "0           0            36.62                               14.28   \n",
       "1           1            27.52                               13.09   \n",
       "2           2            15.41                               10.97   \n",
       "3           3            16.15                               11.74   \n",
       "4           4            32.30                               13.39   \n",
       "\n",
       "   Engineering  Computer and information sciences  Physics  Chemistry  \\\n",
       "0        11.12                               6.49     5.90       3.43   \n",
       "1        12.63                               8.81     8.22       5.71   \n",
       "2        23.79                              11.98    10.09       8.30   \n",
       "3        17.02                              17.56    10.88       8.19   \n",
       "4        13.00                               8.11    11.90       7.80   \n",
       "\n",
       "   Social sciences  Materials science Region, country, or economy  \n",
       "0             8.23               1.30               United States  \n",
       "1             6.96               2.43                       EU-27  \n",
       "2             1.28               5.19                       China  \n",
       "3             1.71               6.67                       India  \n",
       "4             1.85               3.23                       Japan  "
      ]
     },
     "execution_count": 46,
     "metadata": {},
     "output_type": "execute_result"
    }
   ],
   "source": [
    "apub.head()"
   ]
  },
  {
   "cell_type": "code",
   "execution_count": 47,
   "metadata": {},
   "outputs": [
    {
     "name": "stdout",
     "output_type": "stream",
     "text": [
      "<class 'pandas.core.frame.DataFrame'>\n",
      "RangeIndex: 6 entries, 0 to 5\n",
      "Data columns (total 10 columns):\n",
      "Unnamed: 0                            6 non-null int64\n",
      "Health sciences                       6 non-null float64\n",
      "Biological and biomedical sciences    6 non-null float64\n",
      "Engineering                           6 non-null float64\n",
      "Computer and information sciences     6 non-null float64\n",
      "Physics                               6 non-null float64\n",
      "Chemistry                             6 non-null float64\n",
      "Social sciences                       6 non-null float64\n",
      "Materials science                     6 non-null float64\n",
      "Region, country, or economy           6 non-null object\n",
      "dtypes: float64(8), int64(1), object(1)\n",
      "memory usage: 560.0+ bytes\n"
     ]
    }
   ],
   "source": [
    "apub.info()"
   ]
  },
  {
   "cell_type": "code",
   "execution_count": 48,
   "metadata": {},
   "outputs": [],
   "source": [
    "# dropping the unwanted column\n",
    "apub.drop('Unnamed: 0', axis = 1, inplace = True)"
   ]
  },
  {
   "cell_type": "code",
   "execution_count": 49,
   "metadata": {},
   "outputs": [],
   "source": [
    "y = ['Health sciences', 'Biological and biomedical sciences', 'Engineering',\n",
    "       'Computer and information sciences', 'Physics', 'Chemistry',\n",
    "       'Social sciences', 'Materials science']"
   ]
  },
  {
   "cell_type": "code",
   "execution_count": 50,
   "metadata": {},
   "outputs": [
    {
     "data": {
      "image/png": "[encoded data removed]",
      "text/plain": [
       "<Figure size 720x360 with 1 Axes>"
      ]
     },
     "metadata": {},
     "output_type": "display_data"
    }
   ],
   "source": [
    "apub.plot(x='Region, country, or economy', y=y, kind='bar', figsize=([10, 5]))\n",
    "plt.ylabel('Number of Publications')\n",
    "plt.title('Research portfolios, by eight largest fields of science and by selected region, country, or economy in 2020');"
   ]
  },
  {
   "cell_type": "code",
   "execution_count": null,
   "metadata": {},
   "outputs": [],
   "source": []
  }
 ],
 "metadata": {
  "kernelspec": {
   "display_name": "Python 3",
   "language": "python",
   "name": "python3"
  },
  "language_info": {
   "codemirror_mode": {
    "name": "ipython",
    "version": 3
   },
   "file_extension": ".py",
   "mimetype": "text/x-python",
   "name": "python",
   "nbconvert_exporter": "python",
   "pygments_lexer": "ipython3",
   "version": "3.7.0"
  }
 },
 "nbformat": 4,
 "nbformat_minor": 2
}
